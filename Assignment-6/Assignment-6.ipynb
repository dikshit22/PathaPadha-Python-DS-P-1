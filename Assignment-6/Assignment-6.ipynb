{
 "cells": [
  {
   "cell_type": "code",
   "execution_count": 1,
   "id": "188feb50",
   "metadata": {},
   "outputs": [],
   "source": [
    "import numpy as np"
   ]
  },
  {
   "cell_type": "code",
   "execution_count": 2,
   "id": "b3961b94",
   "metadata": {},
   "outputs": [
    {
     "name": "stdout",
     "output_type": "stream",
     "text": [
      "2\n",
      "3\n",
      "4\n"
     ]
    }
   ],
   "source": [
    "a1 = np.array([1, 2, 3, 4])\n",
    "a2 = np.array([2, 3, 4, 5])\n",
    "for i in a1:\n",
    "    for j in a2:\n",
    "        if(i == j):\n",
    "            print(j)"
   ]
  },
  {
   "cell_type": "code",
   "execution_count": 3,
   "id": "a266647c",
   "metadata": {},
   "outputs": [
    {
     "data": {
      "text/plain": [
       "array([[[0.97590069, 7.69727321, 8.27528621],\n",
       "        [7.12458993, 3.8499206 , 7.51729437],\n",
       "        [2.20619984, 6.35977719, 4.68554384]],\n",
       "\n",
       "       [[4.16033347, 4.25929965, 1.06911295],\n",
       "        [6.64072642, 0.1655785 , 7.47226973],\n",
       "        [3.96224093, 4.00800381, 7.11037737]],\n",
       "\n",
       "       [[3.69363927, 7.87040459, 0.07965624],\n",
       "        [7.73380733, 5.13059493, 4.73201677],\n",
       "        [2.57530338, 6.19528774, 5.65881112]]])"
      ]
     },
     "execution_count": 3,
     "metadata": {},
     "output_type": "execute_result"
    }
   ],
   "source": [
    "r = np.random.rand(3, 3, 3)*10\n",
    "r"
   ]
  },
  {
   "cell_type": "code",
   "execution_count": 4,
   "id": "b7b8796d",
   "metadata": {},
   "outputs": [
    {
     "name": "stdout",
     "output_type": "stream",
     "text": [
      "[[8.42810705 7.06988806 7.32624588 1.87297875 4.89572798]\n",
      " [9.54874197 6.59698163 9.31994709 9.24964604 6.71270209]\n",
      " [5.86282923 3.57781134 7.54745598 9.26604363 8.43823303]\n",
      " [2.17791677 1.18857857 9.91792813 5.7520465  3.87451943]\n",
      " [0.74337554 7.0484933  9.60896821 4.66391014 0.78840442]]\n",
      "Maximum element is 9.917928130454566 \n",
      "Minimum element is 0.7433755434118561\n"
     ]
    }
   ],
   "source": [
    "r1 = np.random.rand(5, 5)*10\n",
    "print(r1)\n",
    "r1.sort()\n",
    "rmax = np.array([r1[i, 4] for i in range(0, 5)])\n",
    "rmin = np.array([r1[i, 0] for i in range(0, 5)])\n",
    "rmax.sort()\n",
    "rmin.sort()\n",
    "print('Maximum element is', rmax[4], '\\nMinimum element is', rmin[0])"
   ]
  }
 ],
 "metadata": {
  "kernelspec": {
   "display_name": "Python 3",
   "language": "python",
   "name": "python3"
  },
  "language_info": {
   "codemirror_mode": {
    "name": "ipython",
    "version": 3
   },
   "file_extension": ".py",
   "mimetype": "text/x-python",
   "name": "python",
   "nbconvert_exporter": "python",
   "pygments_lexer": "ipython3",
   "version": "3.8.8"
  }
 },
 "nbformat": 4,
 "nbformat_minor": 5
}
