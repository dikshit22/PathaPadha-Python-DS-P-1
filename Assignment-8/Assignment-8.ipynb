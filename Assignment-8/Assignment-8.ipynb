{
 "cells": [
  {
   "cell_type": "code",
   "execution_count": 1,
   "id": "8bc0c437",
   "metadata": {},
   "outputs": [],
   "source": [
    "import numpy as np\n",
    "import pandas as pd"
   ]
  },
  {
   "cell_type": "code",
   "execution_count": 2,
   "id": "20f31f2c",
   "metadata": {
    "collapsed": true
   },
   "outputs": [
    {
     "data": {
      "text/plain": [
       "'1. Write a Pandas program to split the following dataframe by school code and get mean, min, and max value of age for each school.\\n\\n  school class            name date_Of_Birth   age  height  weight  address\\nS1   s001     V  Alberto Franco     15/05/2002   12    173      35  street1\\nS2   s002     V    Gino Mcneill     17/05/2002   12    192      32  street2\\nS3   s003    VI     Ryan Parkes     16/02/1999   13    186      33  street3\\nS4   s001    VI    Eesha Hinton     25/09/1998   13    167      30  street1\\nS5   s002     V    Gino Mcneill     11/05/2002   14    151      31  street2\\nS6   s004    VI    David Parkes     15/09/1997   12    159      32  street4'"
      ]
     },
     "execution_count": 2,
     "metadata": {},
     "output_type": "execute_result"
    }
   ],
   "source": [
    "'''1. Write a Pandas program to split the following dataframe by school code and get mean, min, and max value of age for each school.\n",
    "\n",
    "  school class            name date_Of_Birth   age  height  weight  address\n",
    "S1   s001     V  Alberto Franco     15/05/2002   12    173      35  street1\n",
    "S2   s002     V    Gino Mcneill     17/05/2002   12    192      32  street2\n",
    "S3   s003    VI     Ryan Parkes     16/02/1999   13    186      33  street3\n",
    "S4   s001    VI    Eesha Hinton     25/09/1998   13    167      30  street1\n",
    "S5   s002     V    Gino Mcneill     11/05/2002   14    151      31  street2\n",
    "S6   s004    VI    David Parkes     15/09/1997   12    159      32  street4'''"
   ]
  },
  {
   "cell_type": "code",
   "execution_count": 3,
   "id": "e69e3bf5",
   "metadata": {},
   "outputs": [],
   "source": [
    "data_frame1 = {'school':['s001', 's002', 's003', 's001', 's002', 's004'],\n",
    "               'class':['V', 'V', 'VI', 'VI', 'V', 'VI'],\n",
    "               'name':['Alberto Franco', 'Gino Mcneill', 'Ryan Parkes', 'Eesha Hinton', 'Gino Mcneill', 'David Parkes'],\n",
    "               'date_Of_Birth':['15/05/2002', '17/05/2002', '16/02/1999', '25/09/1998', '11/05/2002', '15/09/1997'],\n",
    "               'age':[12, 12, 13, 13, 14, 12], 'height':[173, 192, 186, 167, 151, 159], 'weight':[35, 32, 33, 30, 31, 32],\n",
    "               'address':['street1', 'street2', 'street3', 'street1', 'street2', 'street4']}"
   ]
  },
  {
   "cell_type": "code",
   "execution_count": 4,
   "id": "3a06f343",
   "metadata": {},
   "outputs": [],
   "source": [
    "df1 = pd.DataFrame(data_frame1)"
   ]
  },
  {
   "cell_type": "code",
   "execution_count": 5,
   "id": "3ce83e8e",
   "metadata": {},
   "outputs": [
    {
     "data": {
      "text/html": [
       "<div>\n",
       "<style scoped>\n",
       "    .dataframe tbody tr th:only-of-type {\n",
       "        vertical-align: middle;\n",
       "    }\n",
       "\n",
       "    .dataframe tbody tr th {\n",
       "        vertical-align: top;\n",
       "    }\n",
       "\n",
       "    .dataframe thead th {\n",
       "        text-align: right;\n",
       "    }\n",
       "</style>\n",
       "<table border=\"1\" class=\"dataframe\">\n",
       "  <thead>\n",
       "    <tr style=\"text-align: right;\">\n",
       "      <th></th>\n",
       "      <th>school</th>\n",
       "      <th>class</th>\n",
       "      <th>name</th>\n",
       "      <th>date_Of_Birth</th>\n",
       "      <th>age</th>\n",
       "      <th>height</th>\n",
       "      <th>weight</th>\n",
       "      <th>address</th>\n",
       "    </tr>\n",
       "  </thead>\n",
       "  <tbody>\n",
       "    <tr>\n",
       "      <th>S1</th>\n",
       "      <td>s001</td>\n",
       "      <td>V</td>\n",
       "      <td>Alberto Franco</td>\n",
       "      <td>15/05/2002</td>\n",
       "      <td>12</td>\n",
       "      <td>173</td>\n",
       "      <td>35</td>\n",
       "      <td>street1</td>\n",
       "    </tr>\n",
       "    <tr>\n",
       "      <th>S2</th>\n",
       "      <td>s002</td>\n",
       "      <td>V</td>\n",
       "      <td>Gino Mcneill</td>\n",
       "      <td>17/05/2002</td>\n",
       "      <td>12</td>\n",
       "      <td>192</td>\n",
       "      <td>32</td>\n",
       "      <td>street2</td>\n",
       "    </tr>\n",
       "    <tr>\n",
       "      <th>S3</th>\n",
       "      <td>s003</td>\n",
       "      <td>VI</td>\n",
       "      <td>Ryan Parkes</td>\n",
       "      <td>16/02/1999</td>\n",
       "      <td>13</td>\n",
       "      <td>186</td>\n",
       "      <td>33</td>\n",
       "      <td>street3</td>\n",
       "    </tr>\n",
       "    <tr>\n",
       "      <th>S4</th>\n",
       "      <td>s001</td>\n",
       "      <td>VI</td>\n",
       "      <td>Eesha Hinton</td>\n",
       "      <td>25/09/1998</td>\n",
       "      <td>13</td>\n",
       "      <td>167</td>\n",
       "      <td>30</td>\n",
       "      <td>street1</td>\n",
       "    </tr>\n",
       "    <tr>\n",
       "      <th>S5</th>\n",
       "      <td>s002</td>\n",
       "      <td>V</td>\n",
       "      <td>Gino Mcneill</td>\n",
       "      <td>11/05/2002</td>\n",
       "      <td>14</td>\n",
       "      <td>151</td>\n",
       "      <td>31</td>\n",
       "      <td>street2</td>\n",
       "    </tr>\n",
       "    <tr>\n",
       "      <th>S6</th>\n",
       "      <td>s004</td>\n",
       "      <td>VI</td>\n",
       "      <td>David Parkes</td>\n",
       "      <td>15/09/1997</td>\n",
       "      <td>12</td>\n",
       "      <td>159</td>\n",
       "      <td>32</td>\n",
       "      <td>street4</td>\n",
       "    </tr>\n",
       "  </tbody>\n",
       "</table>\n",
       "</div>"
      ],
      "text/plain": [
       "   school class            name date_Of_Birth  age  height  weight  address\n",
       "S1   s001     V  Alberto Franco    15/05/2002   12     173      35  street1\n",
       "S2   s002     V    Gino Mcneill    17/05/2002   12     192      32  street2\n",
       "S3   s003    VI     Ryan Parkes    16/02/1999   13     186      33  street3\n",
       "S4   s001    VI    Eesha Hinton    25/09/1998   13     167      30  street1\n",
       "S5   s002     V    Gino Mcneill    11/05/2002   14     151      31  street2\n",
       "S6   s004    VI    David Parkes    15/09/1997   12     159      32  street4"
      ]
     },
     "execution_count": 5,
     "metadata": {},
     "output_type": "execute_result"
    }
   ],
   "source": [
    "df1.set_index(pd.Index(['S1', 'S2', 'S3', 'S4', 'S5', 'S6']))"
   ]
  },
  {
   "cell_type": "code",
   "execution_count": 6,
   "id": "6cbda865",
   "metadata": {},
   "outputs": [],
   "source": [
    "d1 = (df1.groupby(df1.school).age.describe())[['mean', 'min', 'max']]"
   ]
  },
  {
   "cell_type": "code",
   "execution_count": 7,
   "id": "80488ee8",
   "metadata": {},
   "outputs": [
    {
     "data": {
      "text/html": [
       "<div>\n",
       "<style scoped>\n",
       "    .dataframe tbody tr th:only-of-type {\n",
       "        vertical-align: middle;\n",
       "    }\n",
       "\n",
       "    .dataframe tbody tr th {\n",
       "        vertical-align: top;\n",
       "    }\n",
       "\n",
       "    .dataframe thead th {\n",
       "        text-align: right;\n",
       "    }\n",
       "</style>\n",
       "<table border=\"1\" class=\"dataframe\">\n",
       "  <thead>\n",
       "    <tr style=\"text-align: right;\">\n",
       "      <th></th>\n",
       "      <th>mean</th>\n",
       "      <th>min</th>\n",
       "      <th>max</th>\n",
       "    </tr>\n",
       "    <tr>\n",
       "      <th>school</th>\n",
       "      <th></th>\n",
       "      <th></th>\n",
       "      <th></th>\n",
       "    </tr>\n",
       "  </thead>\n",
       "  <tbody>\n",
       "    <tr>\n",
       "      <th>s001</th>\n",
       "      <td>12.5</td>\n",
       "      <td>12.0</td>\n",
       "      <td>13.0</td>\n",
       "    </tr>\n",
       "    <tr>\n",
       "      <th>s002</th>\n",
       "      <td>13.0</td>\n",
       "      <td>12.0</td>\n",
       "      <td>14.0</td>\n",
       "    </tr>\n",
       "    <tr>\n",
       "      <th>s003</th>\n",
       "      <td>13.0</td>\n",
       "      <td>13.0</td>\n",
       "      <td>13.0</td>\n",
       "    </tr>\n",
       "    <tr>\n",
       "      <th>s004</th>\n",
       "      <td>12.0</td>\n",
       "      <td>12.0</td>\n",
       "      <td>12.0</td>\n",
       "    </tr>\n",
       "  </tbody>\n",
       "</table>\n",
       "</div>"
      ],
      "text/plain": [
       "        mean   min   max\n",
       "school                  \n",
       "s001    12.5  12.0  13.0\n",
       "s002    13.0  12.0  14.0\n",
       "s003    13.0  13.0  13.0\n",
       "s004    12.0  12.0  12.0"
      ]
     },
     "execution_count": 7,
     "metadata": {},
     "output_type": "execute_result"
    }
   ],
   "source": [
    "d1"
   ]
  },
  {
   "cell_type": "code",
   "execution_count": 8,
   "id": "440a7d8f",
   "metadata": {
    "collapsed": true
   },
   "outputs": [
    {
     "data": {
      "text/plain": [
       "'2. Write a Pandas program to split a dataset, group by one column and get mean, min, and max values by group.\\nUsing the following dataset find the mean, min, and max values of purchase amount (purch_amt) group by customer id (customer_id).\\n\\nord_no  purch_amt    ord_date  customer_id  salesman_id\\n0    70001     150.50  2012-10-05         3005         5002\\n1    70009     270.65  2012-09-10         3001         5005\\n2    70002      65.26  2012-10-05         3002         5001\\n3    70004     110.50  2012-08-17         3009         5003\\n4    70007     948.50  2012-09-10         3005         5002\\n5    70005    2400.60  2012-07-27         3007         5001\\n6    70008    5760.00  2012-09-10         3002         5001\\n7    70010    1983.43  2012-10-10         3004         5006\\n8    70003    2480.40  2012-10-10         3009         5003\\n9    70012     250.45  2012-06-27         3008         5002\\n10   70011      75.29  2012-08-17         3003         5007\\n11   70013    3045.60  2012-04-25         3002         5001\\n'"
      ]
     },
     "execution_count": 8,
     "metadata": {},
     "output_type": "execute_result"
    }
   ],
   "source": [
    "'''2. Write a Pandas program to split a dataset, group by one column and get mean, min, and max values by group.\n",
    "Using the following dataset find the mean, min, and max values of purchase amount (purch_amt) group by customer id (customer_id).\n",
    "\n",
    "ord_no  purch_amt    ord_date  customer_id  salesman_id\n",
    "0    70001     150.50  2012-10-05         3005         5002\n",
    "1    70009     270.65  2012-09-10         3001         5005\n",
    "2    70002      65.26  2012-10-05         3002         5001\n",
    "3    70004     110.50  2012-08-17         3009         5003\n",
    "4    70007     948.50  2012-09-10         3005         5002\n",
    "5    70005    2400.60  2012-07-27         3007         5001\n",
    "6    70008    5760.00  2012-09-10         3002         5001\n",
    "7    70010    1983.43  2012-10-10         3004         5006\n",
    "8    70003    2480.40  2012-10-10         3009         5003\n",
    "9    70012     250.45  2012-06-27         3008         5002\n",
    "10   70011      75.29  2012-08-17         3003         5007\n",
    "11   70013    3045.60  2012-04-25         3002         5001\n",
    "'''"
   ]
  },
  {
   "cell_type": "code",
   "execution_count": 9,
   "id": "d4c1d9bf",
   "metadata": {},
   "outputs": [],
   "source": [
    "data_frame2 = {'ord_no':[70001, 70009, 70002, 70004, 70007, 70005],\n",
    "               'purch_amt':[150.50, 270.65, 65.26, 110.50, 948.50, 2400.60],\n",
    "               'ord_date':['2012-10-05', '2012-09-10', '2012-10-05', '2012-08-17', '2012-09-10', '2012-07-27'],\n",
    "               'customer_id':[3005, 3001, 3002, 3009, 3005, 3007],\n",
    "               'salesman_id':[5002, 5005, 5001, 5003, 5002, 5001]}"
   ]
  },
  {
   "cell_type": "code",
   "execution_count": 10,
   "id": "2977ab71",
   "metadata": {},
   "outputs": [],
   "source": [
    "df2 = pd.DataFrame(data_frame2)"
   ]
  },
  {
   "cell_type": "code",
   "execution_count": 11,
   "id": "e06cd27f",
   "metadata": {},
   "outputs": [
    {
     "data": {
      "text/html": [
       "<div>\n",
       "<style scoped>\n",
       "    .dataframe tbody tr th:only-of-type {\n",
       "        vertical-align: middle;\n",
       "    }\n",
       "\n",
       "    .dataframe tbody tr th {\n",
       "        vertical-align: top;\n",
       "    }\n",
       "\n",
       "    .dataframe thead th {\n",
       "        text-align: right;\n",
       "    }\n",
       "</style>\n",
       "<table border=\"1\" class=\"dataframe\">\n",
       "  <thead>\n",
       "    <tr style=\"text-align: right;\">\n",
       "      <th></th>\n",
       "      <th>ord_no</th>\n",
       "      <th>purch_amt</th>\n",
       "      <th>ord_date</th>\n",
       "      <th>customer_id</th>\n",
       "      <th>salesman_id</th>\n",
       "    </tr>\n",
       "  </thead>\n",
       "  <tbody>\n",
       "    <tr>\n",
       "      <th>0</th>\n",
       "      <td>70001</td>\n",
       "      <td>150.50</td>\n",
       "      <td>2012-10-05</td>\n",
       "      <td>3005</td>\n",
       "      <td>5002</td>\n",
       "    </tr>\n",
       "    <tr>\n",
       "      <th>1</th>\n",
       "      <td>70009</td>\n",
       "      <td>270.65</td>\n",
       "      <td>2012-09-10</td>\n",
       "      <td>3001</td>\n",
       "      <td>5005</td>\n",
       "    </tr>\n",
       "    <tr>\n",
       "      <th>2</th>\n",
       "      <td>70002</td>\n",
       "      <td>65.26</td>\n",
       "      <td>2012-10-05</td>\n",
       "      <td>3002</td>\n",
       "      <td>5001</td>\n",
       "    </tr>\n",
       "    <tr>\n",
       "      <th>3</th>\n",
       "      <td>70004</td>\n",
       "      <td>110.50</td>\n",
       "      <td>2012-08-17</td>\n",
       "      <td>3009</td>\n",
       "      <td>5003</td>\n",
       "    </tr>\n",
       "    <tr>\n",
       "      <th>4</th>\n",
       "      <td>70007</td>\n",
       "      <td>948.50</td>\n",
       "      <td>2012-09-10</td>\n",
       "      <td>3005</td>\n",
       "      <td>5002</td>\n",
       "    </tr>\n",
       "    <tr>\n",
       "      <th>5</th>\n",
       "      <td>70005</td>\n",
       "      <td>2400.60</td>\n",
       "      <td>2012-07-27</td>\n",
       "      <td>3007</td>\n",
       "      <td>5001</td>\n",
       "    </tr>\n",
       "  </tbody>\n",
       "</table>\n",
       "</div>"
      ],
      "text/plain": [
       "   ord_no  purch_amt    ord_date  customer_id  salesman_id\n",
       "0   70001     150.50  2012-10-05         3005         5002\n",
       "1   70009     270.65  2012-09-10         3001         5005\n",
       "2   70002      65.26  2012-10-05         3002         5001\n",
       "3   70004     110.50  2012-08-17         3009         5003\n",
       "4   70007     948.50  2012-09-10         3005         5002\n",
       "5   70005    2400.60  2012-07-27         3007         5001"
      ]
     },
     "execution_count": 11,
     "metadata": {},
     "output_type": "execute_result"
    }
   ],
   "source": [
    "df2"
   ]
  },
  {
   "cell_type": "code",
   "execution_count": 12,
   "id": "e7507c39",
   "metadata": {},
   "outputs": [],
   "source": [
    "d2 = (df2.groupby('customer_id')['purch_amt'].describe())[['mean', 'min', 'max']]"
   ]
  },
  {
   "cell_type": "code",
   "execution_count": 13,
   "id": "602d9ff1",
   "metadata": {},
   "outputs": [
    {
     "data": {
      "text/html": [
       "<div>\n",
       "<style scoped>\n",
       "    .dataframe tbody tr th:only-of-type {\n",
       "        vertical-align: middle;\n",
       "    }\n",
       "\n",
       "    .dataframe tbody tr th {\n",
       "        vertical-align: top;\n",
       "    }\n",
       "\n",
       "    .dataframe thead th {\n",
       "        text-align: right;\n",
       "    }\n",
       "</style>\n",
       "<table border=\"1\" class=\"dataframe\">\n",
       "  <thead>\n",
       "    <tr style=\"text-align: right;\">\n",
       "      <th></th>\n",
       "      <th>mean</th>\n",
       "      <th>min</th>\n",
       "      <th>max</th>\n",
       "    </tr>\n",
       "    <tr>\n",
       "      <th>customer_id</th>\n",
       "      <th></th>\n",
       "      <th></th>\n",
       "      <th></th>\n",
       "    </tr>\n",
       "  </thead>\n",
       "  <tbody>\n",
       "    <tr>\n",
       "      <th>3001</th>\n",
       "      <td>270.65</td>\n",
       "      <td>270.65</td>\n",
       "      <td>270.65</td>\n",
       "    </tr>\n",
       "    <tr>\n",
       "      <th>3002</th>\n",
       "      <td>65.26</td>\n",
       "      <td>65.26</td>\n",
       "      <td>65.26</td>\n",
       "    </tr>\n",
       "    <tr>\n",
       "      <th>3005</th>\n",
       "      <td>549.50</td>\n",
       "      <td>150.50</td>\n",
       "      <td>948.50</td>\n",
       "    </tr>\n",
       "    <tr>\n",
       "      <th>3007</th>\n",
       "      <td>2400.60</td>\n",
       "      <td>2400.60</td>\n",
       "      <td>2400.60</td>\n",
       "    </tr>\n",
       "    <tr>\n",
       "      <th>3009</th>\n",
       "      <td>110.50</td>\n",
       "      <td>110.50</td>\n",
       "      <td>110.50</td>\n",
       "    </tr>\n",
       "  </tbody>\n",
       "</table>\n",
       "</div>"
      ],
      "text/plain": [
       "                mean      min      max\n",
       "customer_id                           \n",
       "3001          270.65   270.65   270.65\n",
       "3002           65.26    65.26    65.26\n",
       "3005          549.50   150.50   948.50\n",
       "3007         2400.60  2400.60  2400.60\n",
       "3009          110.50   110.50   110.50"
      ]
     },
     "execution_count": 13,
     "metadata": {},
     "output_type": "execute_result"
    }
   ],
   "source": [
    "d2"
   ]
  },
  {
   "cell_type": "code",
   "execution_count": 14,
   "id": "62d4969a",
   "metadata": {
    "collapsed": true
   },
   "outputs": [
    {
     "data": {
      "text/plain": [
       "\"3. Write a Pandas program to split a dataset to group by two columns and then sort the aggregated results within the groups.\\n\\nIn the following dataset group on 'customer_id', 'salesman_id' and then sort sum of purch_amt within the groups.\\n\\n ord_no  purch_amt    ord_date  customer_id  salesman_id\\n0    70001     150.50  2012-10-05         3005         5002\\n1    70009     270.65  2012-09-10         3001         5005\\n2    70002      65.26  2012-10-05         3002         5001\\n3    70004     110.50  2012-08-17         3009         5003\\n4    70007     948.50  2012-09-10         3005         5002\\n5    70005    2400.60  2012-07-27         3007         5001\\n6    70008    5760.00  2012-09-10         3002         5001\\n7    70010    1983.43  2012-10-10         3004         5006\\n8    70003    2480.40  2012-10-10         3009         5003\\n9    70012     250.45  2012-06-27         3008         5002\\n10   70011      75.29  2012-08-17         3003         5007\\n11   70013    3045.60  2012-04-25         3002         5001\""
      ]
     },
     "execution_count": 14,
     "metadata": {},
     "output_type": "execute_result"
    }
   ],
   "source": [
    "'''3. Write a Pandas program to split a dataset to group by two columns and then sort the aggregated results within the groups.\n",
    "\n",
    "In the following dataset group on 'customer_id', 'salesman_id' and then sort sum of purch_amt within the groups.\n",
    "\n",
    " ord_no  purch_amt    ord_date  customer_id  salesman_id\n",
    "0    70001     150.50  2012-10-05         3005         5002\n",
    "1    70009     270.65  2012-09-10         3001         5005\n",
    "2    70002      65.26  2012-10-05         3002         5001\n",
    "3    70004     110.50  2012-08-17         3009         5003\n",
    "4    70007     948.50  2012-09-10         3005         5002\n",
    "5    70005    2400.60  2012-07-27         3007         5001\n",
    "6    70008    5760.00  2012-09-10         3002         5001\n",
    "7    70010    1983.43  2012-10-10         3004         5006\n",
    "8    70003    2480.40  2012-10-10         3009         5003\n",
    "9    70012     250.45  2012-06-27         3008         5002\n",
    "10   70011      75.29  2012-08-17         3003         5007\n",
    "11   70013    3045.60  2012-04-25         3002         5001'''"
   ]
  },
  {
   "cell_type": "code",
   "execution_count": 15,
   "id": "f85a9369",
   "metadata": {},
   "outputs": [],
   "source": [
    "d3 = pd.DataFrame((df2.groupby([\"customer_id\", \"salesman_id\"]))[\"purch_amt\"].sum().sort_values())"
   ]
  },
  {
   "cell_type": "code",
   "execution_count": 16,
   "id": "50068141",
   "metadata": {},
   "outputs": [
    {
     "data": {
      "text/html": [
       "<div>\n",
       "<style scoped>\n",
       "    .dataframe tbody tr th:only-of-type {\n",
       "        vertical-align: middle;\n",
       "    }\n",
       "\n",
       "    .dataframe tbody tr th {\n",
       "        vertical-align: top;\n",
       "    }\n",
       "\n",
       "    .dataframe thead th {\n",
       "        text-align: right;\n",
       "    }\n",
       "</style>\n",
       "<table border=\"1\" class=\"dataframe\">\n",
       "  <thead>\n",
       "    <tr style=\"text-align: right;\">\n",
       "      <th></th>\n",
       "      <th></th>\n",
       "      <th>purch_amt</th>\n",
       "    </tr>\n",
       "    <tr>\n",
       "      <th>customer_id</th>\n",
       "      <th>salesman_id</th>\n",
       "      <th></th>\n",
       "    </tr>\n",
       "  </thead>\n",
       "  <tbody>\n",
       "    <tr>\n",
       "      <th>3002</th>\n",
       "      <th>5001</th>\n",
       "      <td>65.26</td>\n",
       "    </tr>\n",
       "    <tr>\n",
       "      <th>3009</th>\n",
       "      <th>5003</th>\n",
       "      <td>110.50</td>\n",
       "    </tr>\n",
       "    <tr>\n",
       "      <th>3001</th>\n",
       "      <th>5005</th>\n",
       "      <td>270.65</td>\n",
       "    </tr>\n",
       "    <tr>\n",
       "      <th>3005</th>\n",
       "      <th>5002</th>\n",
       "      <td>1099.00</td>\n",
       "    </tr>\n",
       "    <tr>\n",
       "      <th>3007</th>\n",
       "      <th>5001</th>\n",
       "      <td>2400.60</td>\n",
       "    </tr>\n",
       "  </tbody>\n",
       "</table>\n",
       "</div>"
      ],
      "text/plain": [
       "                         purch_amt\n",
       "customer_id salesman_id           \n",
       "3002        5001             65.26\n",
       "3009        5003            110.50\n",
       "3001        5005            270.65\n",
       "3005        5002           1099.00\n",
       "3007        5001           2400.60"
      ]
     },
     "execution_count": 16,
     "metadata": {},
     "output_type": "execute_result"
    }
   ],
   "source": [
    "d3"
   ]
  },
  {
   "cell_type": "code",
   "execution_count": 17,
   "id": "bd7a1667",
   "metadata": {
    "collapsed": true
   },
   "outputs": [
    {
     "data": {
      "text/plain": [
       "\"4.(a) Write a Pandas program to remove the duplicates from 'WHO region' column of World alcohol consumption dataset.\\n\\nYear       WHO region                Country Beverage Types  Display Value\\n0  1986  Western Pacific               Viet Nam           Wine           0.00\\n1  1986         Americas                Uruguay          Other           0.50\\n2  1985           Africa           Cte d'Ivoire           Wine           1.62\\n3  1986         Americas               Colombia           Beer           4.27\\n4  1987         Americas  Saint Kitts and Nevis           Beer           1.98\\n\""
      ]
     },
     "execution_count": 17,
     "metadata": {},
     "output_type": "execute_result"
    }
   ],
   "source": [
    "'''4.(a) Write a Pandas program to remove the duplicates from 'WHO region' column of World alcohol consumption dataset.\n",
    "\n",
    "Year       WHO region                Country Beverage Types  Display Value\n",
    "0  1986  Western Pacific               Viet Nam           Wine           0.00\n",
    "1  1986         Americas                Uruguay          Other           0.50\n",
    "2  1985           Africa           Cte d'Ivoire           Wine           1.62\n",
    "3  1986         Americas               Colombia           Beer           4.27\n",
    "4  1987         Americas  Saint Kitts and Nevis           Beer           1.98\n",
    "'''"
   ]
  },
  {
   "cell_type": "code",
   "execution_count": 18,
   "id": "a8c2ce02",
   "metadata": {},
   "outputs": [],
   "source": [
    "data_frame3 = {'Year':[1986, 1986, 1985, 1986, 1987],\n",
    "               'WHO region':['Western Pacific', 'Americas', 'Africa', 'Americas', 'Americas'],\n",
    "               'Country':['Viet Nam', 'Uruguay', \"Cte d'Ivoire\", 'Colombia', 'Saint Kitts and Nevis'],\n",
    "               'Beverage Types':['Wine', 'Other', 'Wine', 'Beer', 'Beer'],\n",
    "               'Display Value':[0.00, 0.50, 1.62, 4.27, 1.98]}"
   ]
  },
  {
   "cell_type": "code",
   "execution_count": 19,
   "id": "f0a3802b",
   "metadata": {},
   "outputs": [],
   "source": [
    "df3 = pd.DataFrame(data_frame3)"
   ]
  },
  {
   "cell_type": "code",
   "execution_count": 20,
   "id": "de6d406e",
   "metadata": {},
   "outputs": [
    {
     "data": {
      "text/html": [
       "<div>\n",
       "<style scoped>\n",
       "    .dataframe tbody tr th:only-of-type {\n",
       "        vertical-align: middle;\n",
       "    }\n",
       "\n",
       "    .dataframe tbody tr th {\n",
       "        vertical-align: top;\n",
       "    }\n",
       "\n",
       "    .dataframe thead th {\n",
       "        text-align: right;\n",
       "    }\n",
       "</style>\n",
       "<table border=\"1\" class=\"dataframe\">\n",
       "  <thead>\n",
       "    <tr style=\"text-align: right;\">\n",
       "      <th></th>\n",
       "      <th>Year</th>\n",
       "      <th>WHO region</th>\n",
       "      <th>Country</th>\n",
       "      <th>Beverage Types</th>\n",
       "      <th>Display Value</th>\n",
       "    </tr>\n",
       "  </thead>\n",
       "  <tbody>\n",
       "    <tr>\n",
       "      <th>0</th>\n",
       "      <td>1986</td>\n",
       "      <td>Western Pacific</td>\n",
       "      <td>Viet Nam</td>\n",
       "      <td>Wine</td>\n",
       "      <td>0.00</td>\n",
       "    </tr>\n",
       "    <tr>\n",
       "      <th>1</th>\n",
       "      <td>1986</td>\n",
       "      <td>Americas</td>\n",
       "      <td>Uruguay</td>\n",
       "      <td>Other</td>\n",
       "      <td>0.50</td>\n",
       "    </tr>\n",
       "    <tr>\n",
       "      <th>2</th>\n",
       "      <td>1985</td>\n",
       "      <td>Africa</td>\n",
       "      <td>Cte d'Ivoire</td>\n",
       "      <td>Wine</td>\n",
       "      <td>1.62</td>\n",
       "    </tr>\n",
       "    <tr>\n",
       "      <th>3</th>\n",
       "      <td>1986</td>\n",
       "      <td>Americas</td>\n",
       "      <td>Colombia</td>\n",
       "      <td>Beer</td>\n",
       "      <td>4.27</td>\n",
       "    </tr>\n",
       "    <tr>\n",
       "      <th>4</th>\n",
       "      <td>1987</td>\n",
       "      <td>Americas</td>\n",
       "      <td>Saint Kitts and Nevis</td>\n",
       "      <td>Beer</td>\n",
       "      <td>1.98</td>\n",
       "    </tr>\n",
       "  </tbody>\n",
       "</table>\n",
       "</div>"
      ],
      "text/plain": [
       "   Year       WHO region                Country Beverage Types  Display Value\n",
       "0  1986  Western Pacific               Viet Nam           Wine           0.00\n",
       "1  1986         Americas                Uruguay          Other           0.50\n",
       "2  1985           Africa           Cte d'Ivoire           Wine           1.62\n",
       "3  1986         Americas               Colombia           Beer           4.27\n",
       "4  1987         Americas  Saint Kitts and Nevis           Beer           1.98"
      ]
     },
     "execution_count": 20,
     "metadata": {},
     "output_type": "execute_result"
    }
   ],
   "source": [
    "df3"
   ]
  },
  {
   "cell_type": "code",
   "execution_count": 21,
   "id": "585926f2",
   "metadata": {},
   "outputs": [],
   "source": [
    "d4 = df3.drop_duplicates('WHO region')"
   ]
  },
  {
   "cell_type": "code",
   "execution_count": 22,
   "id": "817127e8",
   "metadata": {},
   "outputs": [
    {
     "data": {
      "text/html": [
       "<div>\n",
       "<style scoped>\n",
       "    .dataframe tbody tr th:only-of-type {\n",
       "        vertical-align: middle;\n",
       "    }\n",
       "\n",
       "    .dataframe tbody tr th {\n",
       "        vertical-align: top;\n",
       "    }\n",
       "\n",
       "    .dataframe thead th {\n",
       "        text-align: right;\n",
       "    }\n",
       "</style>\n",
       "<table border=\"1\" class=\"dataframe\">\n",
       "  <thead>\n",
       "    <tr style=\"text-align: right;\">\n",
       "      <th></th>\n",
       "      <th>Year</th>\n",
       "      <th>WHO region</th>\n",
       "      <th>Country</th>\n",
       "      <th>Beverage Types</th>\n",
       "      <th>Display Value</th>\n",
       "    </tr>\n",
       "  </thead>\n",
       "  <tbody>\n",
       "    <tr>\n",
       "      <th>0</th>\n",
       "      <td>1986</td>\n",
       "      <td>Western Pacific</td>\n",
       "      <td>Viet Nam</td>\n",
       "      <td>Wine</td>\n",
       "      <td>0.00</td>\n",
       "    </tr>\n",
       "    <tr>\n",
       "      <th>1</th>\n",
       "      <td>1986</td>\n",
       "      <td>Americas</td>\n",
       "      <td>Uruguay</td>\n",
       "      <td>Other</td>\n",
       "      <td>0.50</td>\n",
       "    </tr>\n",
       "    <tr>\n",
       "      <th>2</th>\n",
       "      <td>1985</td>\n",
       "      <td>Africa</td>\n",
       "      <td>Cte d'Ivoire</td>\n",
       "      <td>Wine</td>\n",
       "      <td>1.62</td>\n",
       "    </tr>\n",
       "  </tbody>\n",
       "</table>\n",
       "</div>"
      ],
      "text/plain": [
       "   Year       WHO region       Country Beverage Types  Display Value\n",
       "0  1986  Western Pacific      Viet Nam           Wine           0.00\n",
       "1  1986         Americas       Uruguay          Other           0.50\n",
       "2  1985           Africa  Cte d'Ivoire           Wine           1.62"
      ]
     },
     "execution_count": 22,
     "metadata": {},
     "output_type": "execute_result"
    }
   ],
   "source": [
    "d4"
   ]
  },
  {
   "cell_type": "code",
   "execution_count": 23,
   "id": "015c9644",
   "metadata": {
    "collapsed": true
   },
   "outputs": [
    {
     "data": {
      "text/plain": [
       "\"(b) Write a Pandas program to find out the alcohol consumption details in the year '1987' or '1989' from the world alcohol\\nconsumption dataset.\""
      ]
     },
     "execution_count": 23,
     "metadata": {},
     "output_type": "execute_result"
    }
   ],
   "source": [
    "'''(b) Write a Pandas program to find out the alcohol consumption details in the year '1987' or '1989' from the world alcohol\n",
    "consumption dataset.'''"
   ]
  },
  {
   "cell_type": "code",
   "execution_count": 24,
   "id": "6571a46e",
   "metadata": {},
   "outputs": [
    {
     "data": {
      "text/html": [
       "<div>\n",
       "<style scoped>\n",
       "    .dataframe tbody tr th:only-of-type {\n",
       "        vertical-align: middle;\n",
       "    }\n",
       "\n",
       "    .dataframe tbody tr th {\n",
       "        vertical-align: top;\n",
       "    }\n",
       "\n",
       "    .dataframe thead th {\n",
       "        text-align: right;\n",
       "    }\n",
       "</style>\n",
       "<table border=\"1\" class=\"dataframe\">\n",
       "  <thead>\n",
       "    <tr style=\"text-align: right;\">\n",
       "      <th></th>\n",
       "      <th>Year</th>\n",
       "      <th>WHO region</th>\n",
       "      <th>Country</th>\n",
       "      <th>Beverage Types</th>\n",
       "      <th>Display Value</th>\n",
       "    </tr>\n",
       "  </thead>\n",
       "  <tbody>\n",
       "    <tr>\n",
       "      <th>4</th>\n",
       "      <td>1987</td>\n",
       "      <td>Americas</td>\n",
       "      <td>Saint Kitts and Nevis</td>\n",
       "      <td>Beer</td>\n",
       "      <td>1.98</td>\n",
       "    </tr>\n",
       "  </tbody>\n",
       "</table>\n",
       "</div>"
      ],
      "text/plain": [
       "   Year WHO region                Country Beverage Types  Display Value\n",
       "4  1987   Americas  Saint Kitts and Nevis           Beer           1.98"
      ]
     },
     "execution_count": 24,
     "metadata": {},
     "output_type": "execute_result"
    }
   ],
   "source": [
    "df3[(df3.Year == 1987) | (df3.Year == 1989)]"
   ]
  }
 ],
 "metadata": {
  "kernelspec": {
   "display_name": "Python 3",
   "language": "python",
   "name": "python3"
  },
  "language_info": {
   "codemirror_mode": {
    "name": "ipython",
    "version": 3
   },
   "file_extension": ".py",
   "mimetype": "text/x-python",
   "name": "python",
   "nbconvert_exporter": "python",
   "pygments_lexer": "ipython3",
   "version": "3.8.8"
  }
 },
 "nbformat": 4,
 "nbformat_minor": 5
}
