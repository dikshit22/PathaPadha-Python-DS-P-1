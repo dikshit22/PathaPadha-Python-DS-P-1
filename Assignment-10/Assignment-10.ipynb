{
 "cells": [
  {
   "cell_type": "code",
   "execution_count": 1,
   "id": "cffd104f",
   "metadata": {},
   "outputs": [],
   "source": [
    "import numpy as np\n",
    "import pandas as pd\n",
    "from scipy import stats\n",
    "import math"
   ]
  },
  {
   "cell_type": "code",
   "execution_count": 2,
   "id": "663634ca",
   "metadata": {},
   "outputs": [
    {
     "name": "stdout",
     "output_type": "stream",
     "text": [
      "-6.249260311258432\n",
      "NULL Hypothesis rejected!\n"
     ]
    }
   ],
   "source": [
    "'''Question 1'''\n",
    "xbar = 90\n",
    "mu = 100\n",
    "s = 13\n",
    "n = 66\n",
    "alpha = 0.1\n",
    "z = (xbar - mu)/(s/math.sqrt(n))\n",
    "print(z)\n",
    "pval = 1-stats.norm.cdf(z)\n",
    "if (pval < alpha):\n",
    "    print(\"NULL Hypothesis accepted!\")\n",
    "else:\n",
    "    print(\"NULL Hypothesis rejected!\")"
   ]
  },
  {
   "cell_type": "code",
   "execution_count": 3,
   "id": "97776f8c",
   "metadata": {},
   "outputs": [
    {
     "name": "stdout",
     "output_type": "stream",
     "text": [
      "Ttest_1sampResult(statistic=0.9673747735077124, pvalue=0.3455101324753054)\n",
      "Result supports the claim!\n"
     ]
    }
   ],
   "source": [
    "'''Question 2'''\n",
    "mileage = np.array([18.0, 30.7, 19.8, 27.1, 22.3, 18.8, 31.8, 23.4, 21.2, 27.9, 31.9, 27.1, 25.0, 24.7, 26.9, 21.8, 29.2, 34.8, 26.7, 31.6])\n",
    "res = stats.ttest_1samp(mileage, 25)\n",
    "print(res)\n",
    "if (res[1] > 0.05):\n",
    "    print(\"Result supports the claim!\")\n",
    "else:\n",
    "    print(\"Result does not support the claim!\")"
   ]
  },
  {
   "cell_type": "code",
   "execution_count": 4,
   "id": "6f74d546",
   "metadata": {},
   "outputs": [
    {
     "name": "stdout",
     "output_type": "stream",
     "text": [
      "Ttest_indResult(statistic=-2.142488970156885, pvalue=0.03862240230179812)\n",
      "The training session did not improve the students’ communication skills!\n"
     ]
    }
   ],
   "source": [
    "'''Question 3'''\n",
    "before_training = np.array([17, 19, 17, 21, 18, 25, 17, 15, 14, 21, 15, 16, 16, 19, 19, 21, 12, 22, 15, 17])\n",
    "after_training = np.array([22, 25, 19, 24, 16, 29, 20, 23, 19, 20, 17, 15, 18, 25, 14, 24, 18, 25, 19, 14])\n",
    "res2 = stats.ttest_ind(before_training, after_training)\n",
    "print(res2)\n",
    "if (res2[1] > 0.05):\n",
    "    print(\"The training session improved the students’ communication skills!\")\n",
    "else:\n",
    "    print(\"The training session did not improve the students’ communication skills!\")"
   ]
  }
 ],
 "metadata": {
  "kernelspec": {
   "display_name": "Python 3",
   "language": "python",
   "name": "python3"
  },
  "language_info": {
   "codemirror_mode": {
    "name": "ipython",
    "version": 3
   },
   "file_extension": ".py",
   "mimetype": "text/x-python",
   "name": "python",
   "nbconvert_exporter": "python",
   "pygments_lexer": "ipython3",
   "version": "3.8.8"
  }
 },
 "nbformat": 4,
 "nbformat_minor": 5
}
